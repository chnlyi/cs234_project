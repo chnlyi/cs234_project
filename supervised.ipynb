{
 "cells": [
  {
   "cell_type": "code",
   "execution_count": 166,
   "metadata": {},
   "outputs": [
    {
     "name": "stdout",
     "output_type": "stream",
     "text": [
      "{0, 1, 2} (5528, 225)\n"
     ]
    }
   ],
   "source": [
    "from process_data import process_data, process_data_clinical_dose, process_data_pharmacogenetic_dose\n",
    "import numpy as np\n",
    "import matplotlib.pyplot as plt\n",
    "import pickle\n",
    "\n",
    "path = 'data/warfarin.csv'\n",
    "features, labels = process_data(path)\n",
    "labels = labels -1\n",
    "print(set(labels), features.shape)"
   ]
  },
  {
   "cell_type": "code",
   "execution_count": 167,
   "metadata": {},
   "outputs": [],
   "source": [
    "import torch\n",
    "import torch.nn as nn\n",
    "import torch.optim as optim\n",
    "\n",
    "\n",
    "\n",
    "def supervised(trail_seed):\n",
    "\n",
    "    torch.manual_seed(trail_seed)\n",
    "\n",
    "    def get_data_stream(features):\n",
    "        for sample in features:\n",
    "            yield sample\n",
    "\n",
    "    def get_label_stream(labels):\n",
    "        for sample in labels:\n",
    "            yield sample\n",
    "\n",
    "    # Define the PyTorch model class\n",
    "    class Classifier(nn.Module):\n",
    "        def __init__(self, input_size, hidden_size, output_size):\n",
    "            super(Classifier, self).__init__()\n",
    "            self.fc1 = nn.Linear(input_size, hidden_size)\n",
    "            self.relu = nn.ReLU()\n",
    "            self.fc2 = nn.Linear(hidden_size, output_size)\n",
    "            \n",
    "        def forward(self, x):\n",
    "            x = self.fc1(x)\n",
    "            x = self.relu(x)\n",
    "            x = self.fc2(x)\n",
    "            return x\n",
    "\n",
    "\n",
    "    def train(model, optimizer, criterion, data, labels):\n",
    "        model.train()\n",
    "        optimizer.zero_grad()\n",
    "        output = model(data)\n",
    "        loss = criterion(output, labels)\n",
    "        loss.backward()\n",
    "        optimizer.step()\n",
    "        return loss.item()\n",
    "\n",
    "\n",
    "    input_size = 225 \n",
    "    hidden_size = 20 # Number of hidden units\n",
    "    output_size = 3 \n",
    "    learning_rate = 0.01\n",
    "\n",
    " \n",
    "    model = Classifier(input_size, hidden_size, output_size)\n",
    "    criterion = nn.CrossEntropyLoss()\n",
    "    optimizer = optim.SGD(model.parameters(), lr=learning_rate)\n",
    "\n",
    "    data_stream = get_data_stream(features)\n",
    "    label_stream = get_label_stream(labels) \n",
    "    regret = 0.0\n",
    "    regret_plot = []\n",
    "    correct_plot = []\n",
    "    incorrect_decisions = 0.0\n",
    "    total_decisions = 0.0\n",
    "\n",
    "    for i in range(5528):\n",
    "        data = next(data_stream)\n",
    "        label = next(label_stream)\n",
    "        prediction = model(torch.tensor(data).float()).argmax().item()\n",
    "\n",
    "            \n",
    "        if prediction != label:\n",
    "            if abs(prediction - label) == 1:\n",
    "                regret += 3\n",
    "            elif abs(prediction - label) == 2:\n",
    "                regret += 6\n",
    "            else:\n",
    "                raise ValueError\n",
    "            incorrect_decisions += 1\n",
    "        total_decisions += 1\n",
    "        regret_plot.append(regret/3)\n",
    "        correct_plot.append(1-incorrect_decisions/total_decisions)\n",
    "        loss = train(model, optimizer, criterion, torch.tensor(data).float().unsqueeze(0), torch.tensor([label]))\n",
    "    return regret_plot, correct_plot\n",
    "\n",
    "\n",
    "# if want 20 runs, change the fllowing line to:\n",
    "# trial_seed = np.random.randint(1, 100, 20)\n",
    "\n",
    "trial_seed = np.random.randint(1, 100, 3)\n",
    "regret_list = []\n",
    "correct_list = []\n",
    "for i in trial_seed:\n",
    "    regret_plot, correct_plot = supervised(i)\n",
    "    regret_list.append(regret_plot)\n",
    "    correct_list.append(correct_plot)\n",
    "    \n",
    "\n"
   ]
  },
  {
   "cell_type": "code",
   "execution_count": 168,
   "metadata": {},
   "outputs": [],
   "source": [
    "file_name = \"supervised_regret.pkl\"\n",
    "open_file = open(file_name, \"wb\")\n",
    "pickle.dump(regret_list, open_file)\n",
    "open_file.close()\n",
    "\n",
    "file_name = \"supervised_correct.pkl\"\n",
    "open_file = open(file_name, \"wb\")\n",
    "pickle.dump(correct_list, open_file)\n",
    "open_file.close()"
   ]
  },
  {
   "cell_type": "markdown",
   "metadata": {},
   "source": [
    "The cell below can be used to load the list of lists:"
   ]
  },
  {
   "cell_type": "code",
   "execution_count": 169,
   "metadata": {},
   "outputs": [],
   "source": [
    "file_name = \"supervised_regret.pkl\"\n",
    "open_file = open(file_name, \"rb\")\n",
    "loaded_regret_list = pickle.load(open_file)\n",
    "open_file.close()\n",
    "\n",
    "file_name = \"supervised_correct.pkl\"\n",
    "open_file = open(file_name, \"rb\")\n",
    "loaded_correct_list = pickle.load(open_file)\n",
    "open_file.close()\n"
   ]
  },
  {
   "cell_type": "markdown",
   "metadata": {},
   "source": [
    "Example to load the correct data to plot"
   ]
  },
  {
   "cell_type": "code",
   "execution_count": 170,
   "metadata": {},
   "outputs": [
    {
     "data": {
      "image/png": "[encoded data removed]",
      "text/plain": [
       "<Figure size 640x480 with 1 Axes>"
      ]
     },
     "metadata": {},
     "output_type": "display_data"
    }
   ],
   "source": [
    "data = loaded_correct_list\n",
    "mean = np.mean(data, axis=0)\n",
    "std = np.std(data, axis=0)\n",
    "N = len(data)\n",
    "t = 2.093\n",
    "ci_upper = mean + t * (std / np.sqrt(N))\n",
    "ci_lower = mean - t * (std / np.sqrt(N))\n",
    "\n",
    "plt.plot(mean)\n",
    "plt.fill_between(range(len(mean)), ci_upper, ci_lower, alpha=.2)\n",
    "\n",
    "plt.title(\"Time Series with 95% Confidence Interval\")\n",
    "plt.xlabel(\"Time\")\n",
    "plt.ylabel(\"Value\")\n",
    "\n",
    "plt.show()"
   ]
  }
 ],
 "metadata": {
  "interpreter": {
   "hash": "b0fa6594d8f4cbf19f97940f81e996739fb7646882a419484c72d19e05852a7e"
  },
  "kernelspec": {
   "display_name": "Python 3.10.6 64-bit",
   "language": "python",
   "name": "python3"
  },
  "language_info": {
   "codemirror_mode": {
    "name": "ipython",
    "version": 3
   },
   "file_extension": ".py",
   "mimetype": "text/x-python",
   "name": "python",
   "nbconvert_exporter": "python",
   "pygments_lexer": "ipython3",
   "version": "3.10.6"
  },
  "orig_nbformat": 4
 },
 "nbformat": 4,
 "nbformat_minor": 2
}
