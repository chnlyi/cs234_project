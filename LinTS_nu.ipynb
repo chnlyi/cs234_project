{
 "cells": [
  {
   "cell_type": "code",
   "execution_count": 1,
   "metadata": {},
   "outputs": [],
   "source": [
    "import numpy as np\n",
    "import matplotlib.pyplot as plt\n",
    "from tqdm import tqdm\n",
    "from process_data import process_data\n",
    "from policy import LinUCB, FixedDose, ClinicalDose, LassoUCB, RobustLinExp3, LinTS, PharmacogeneticDose\n",
    "from bandit import ContextualBandit\n",
    "\n",
    "def run(bandit, policy, T=1000, num_trials=3, seed=2023):\n",
    "    \n",
    "    cum_regrets = []\n",
    "    correctness = []\n",
    "    np.random.seed(seed)\n",
    "    \n",
    "    for i, trial_seed in enumerate(np.random.randint(1, 100, num_trials)):\n",
    "        \n",
    "        bandit.reset(seed=trial_seed)\n",
    "        policy.reset()\n",
    "        \n",
    "        for t in tqdm(range(T)):\n",
    "            \n",
    "            fea, lab = bandit.present()\n",
    "            arm = policy.predict(fea, lab, t)\n",
    "            reward = bandit.pull(arm)\n",
    "            if policy.__class__.__name__ in ['RobustLinExp3']:\n",
    "                policy.update(fea, lab, reward) \n",
    "            else:                           \n",
    "                policy.update(fea, arm, reward)\n",
    "        \n",
    "        correctness.append(bandit.correctness[-1])\n",
    "    \n",
    "    return correctness"
   ]
  },
  {
   "cell_type": "code",
   "execution_count": 4,
   "metadata": {},
   "outputs": [
    {
     "name": "stderr",
     "output_type": "stream",
     "text": [
      "  2%|▏         | 115/5528 [00:03<02:20, 38.59it/s]/home/liang/CS234_final_project/cs234_project/policy.py:242: RuntimeWarning: covariance is not symmetric positive-semidefinite.\n",
      "  mu_t = np.random.multivariate_normal(self.mu_hat[arm], self.nu ** 2 * B_inv)\n",
      "100%|██████████| 5528/5528 [03:02<00:00, 30.31it/s]\n",
      "100%|██████████| 5528/5528 [03:02<00:00, 30.21it/s]\n",
      "100%|██████████| 5528/5528 [02:59<00:00, 30.75it/s]\n",
      "100%|██████████| 5528/5528 [03:04<00:00, 29.97it/s]\n"
     ]
    }
   ],
   "source": [
    "path = 'data/warfarin.csv'\n",
    "features, labels = process_data(path)\n",
    "\n",
    "cors = []\n",
    "nus = [0.003, 0.01, 0.03, 0.1]\n",
    "for nu in nus:\n",
    "    lints_cb = ContextualBandit(features=features, labels=labels)\n",
    "    lints = LinTS(num_features=lints_cb.num_features, num_labels=lints_cb.k, nu=nu)\n",
    "    cor = run(lints_cb, lints, T=features.shape[0], num_trials=1, seed=2023)\n",
    "    cor = sum(cor)\n",
    "    cors.append(cor)"
   ]
  },
  {
   "cell_type": "code",
   "execution_count": 8,
   "metadata": {},
   "outputs": [
    {
     "data": {
      "image/png": "[encoded data removed]",
      "text/plain": [
       "<Figure size 640x480 with 1 Axes>"
      ]
     },
     "metadata": {},
     "output_type": "display_data"
    }
   ],
   "source": [
    "nus = [str(i) for i in nus]\n",
    "plt.bar(nus, cors)\n",
    "plt.show()    "
   ]
  },
  {
   "cell_type": "code",
   "execution_count": null,
   "metadata": {},
   "outputs": [],
   "source": []
  }
 ],
 "metadata": {
  "kernelspec": {
   "display_name": "Python 3.9.16 ('cs234p')",
   "language": "python",
   "name": "python3"
  },
  "language_info": {
   "codemirror_mode": {
    "name": "ipython",
    "version": 3
   },
   "file_extension": ".py",
   "mimetype": "text/x-python",
   "name": "python",
   "nbconvert_exporter": "python",
   "pygments_lexer": "ipython3",
   "version": "3.9.16"
  },
  "orig_nbformat": 4,
  "vscode": {
   "interpreter": {
    "hash": "4b5c6bcf4be0c817fb1ae5c1013432f7139d66c7810f16c7dad4a4427e33e042"
   }
  }
 },
 "nbformat": 4,
 "nbformat_minor": 2
}
